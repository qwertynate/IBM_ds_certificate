{
 "cells": [
  {
   "cell_type": "code",
   "execution_count": 11,
   "id": "b0b4a215-ddb7-46c9-bcf1-d24aaf223569",
   "metadata": {},
   "outputs": [],
   "source": [
    "# Exercise 2"
   ]
  },
  {
   "cell_type": "markdown",
   "id": "5c872faf-2de9-4483-bdaf-f492dcfb7fd3",
   "metadata": {},
   "source": [
    "# Data Science Tools and Ecosystem"
   ]
  },
  {
   "cell_type": "code",
   "execution_count": 14,
   "id": "d6bf9086-f6cf-477d-87b5-c1b416427a4f",
   "metadata": {},
   "outputs": [],
   "source": [
    "# Exercise 3"
   ]
  },
  {
   "cell_type": "markdown",
   "id": "e6f264e1-8c24-4a90-99a6-d1eab811337b",
   "metadata": {},
   "source": [
    "# In this notebook, Data Science Tools and Ecosystem are summarized."
   ]
  },
  {
   "cell_type": "markdown",
   "id": "ebe8046f-f6e6-40e1-a275-67d6135b83a3",
   "metadata": {},
   "source": [
    "# Exercise 4\n",
    "1. R\n",
    "2. Python\n",
    "3. Java"
   ]
  },
  {
   "cell_type": "markdown",
   "id": "edc41c98-182d-42b8-95f2-be6e7a3388d9",
   "metadata": {},
   "source": [
    "# Exercise 5"
   ]
  },
  {
   "cell_type": "markdown",
   "id": "1020ded0-9231-414c-925a-a8770490e340",
   "metadata": {},
   "source": [
    "Some of the commonly used libraries used by Data Scientists include:\n",
    "1. ggplot\n",
    "2. dplyr\n",
    "3. panda"
   ]
  },
  {
   "cell_type": "markdown",
   "id": "cfe624ec-53f8-4cce-b01c-d95163085fee",
   "metadata": {},
   "source": [
    "# Exercise 6\n",
    "# Data Science Tools\n",
    "1. Jupyter Notebook\n",
    "2. RStudio\n",
    "3. Apache Spark\n",
    "4. TensorFlow\n",
    "5. Apache Hadoop\n",
    "6. KNIME"
   ]
  },
  {
   "cell_type": "markdown",
   "id": "656f8934-7c78-4cee-971f-5dbab5b12ca3",
   "metadata": {},
   "source": [
    "# Exercise 7\n",
    "### Below are a few examples of evaluating arithmetic expressions in Python"
   ]
  },
  {
   "cell_type": "code",
   "execution_count": 23,
   "id": "30eb6ab0-2963-4c5b-b12d-5bf8492e252c",
   "metadata": {},
   "outputs": [
    {
     "data": {
      "text/plain": [
       "17"
      ]
     },
     "execution_count": 23,
     "metadata": {},
     "output_type": "execute_result"
    }
   ],
   "source": [
    "# Exercise 8\n",
    "# This a simple arithmetic expression to mutiply then add integers\n",
    "(3*4)+5"
   ]
  },
  {
   "cell_type": "code",
   "execution_count": 25,
   "id": "eee70442-0065-4432-beb7-ea227eb54357",
   "metadata": {},
   "outputs": [
    {
     "name": "stdout",
     "output_type": "stream",
     "text": [
      "3.3333333333333335\n"
     ]
    }
   ],
   "source": [
    "# Exercise 9\n",
    "# This will convert 200 minutes to hours by diving by 60\n",
    "minutes = 200\n",
    "hours = minutes / 60\n",
    "print(hours)"
   ]
  },
  {
   "cell_type": "markdown",
   "id": "5468fbee-bef6-425b-a6c2-7f8ac1e085d1",
   "metadata": {},
   "source": [
    "# Exercise 10\n",
    "**Objectives:**\n",
    "- List popular languages for Data Science\n",
    "- Understand key data science tools and ecosystems\n",
    "- Learn how to create and use Jupyter Notebooks\n",
    "- Explore common data manipulation libraries in R\n",
    "- Discuss cloud-based data science tools like Google Colab\n"
   ]
  },
  {
   "cell_type": "markdown",
   "id": "11e411ac-de48-4033-a2db-ca5cc6a77fd9",
   "metadata": {},
   "source": [
    "## Author\n",
    "Eva Doe\n"
   ]
  },
  {
   "cell_type": "code",
   "execution_count": null,
   "id": "ddab1f12-8208-48a2-956f-4930267b254e",
   "metadata": {},
   "outputs": [],
   "source": []
  }
 ],
 "metadata": {
  "kernelspec": {
   "display_name": "Python 3 (ipykernel)",
   "language": "python",
   "name": "python3"
  },
  "language_info": {
   "codemirror_mode": {
    "name": "ipython",
    "version": 3
   },
   "file_extension": ".py",
   "mimetype": "text/x-python",
   "name": "python",
   "nbconvert_exporter": "python",
   "pygments_lexer": "ipython3",
   "version": "3.11.7"
  }
 },
 "nbformat": 4,
 "nbformat_minor": 5
}
